{
 "cells": [
  {
   "cell_type": "code",
   "execution_count": 2,
   "metadata": {},
   "outputs": [],
   "source": [
    "# Proses Transkripsi = proses perubhana DNA menjadi mRNA\n",
    "# Proses Translasi = proses penerjemahan mRNA menjadi amino acid\n",
    "# Complement DNA / cDNA = sebuah DNA pelengkap yang biasa digunakan untuk cloning gen dalam sintesis protein"
   ]
  },
  {
   "cell_type": "code",
   "execution_count": 1,
   "metadata": {},
   "outputs": [
    {
     "name": "stdout",
     "output_type": "stream",
     "text": [
      "Requirement already satisfied: biopython in d:\\software\\environments\\computational_biology\\lib\\site-packages (1.78)\n",
      "Requirement already satisfied: numpy in d:\\software\\environments\\computational_biology\\lib\\site-packages (from biopython) (1.21.5)\n",
      "Note: you may need to restart the kernel to use updated packages.\n"
     ]
    },
    {
     "name": "stderr",
     "output_type": "stream",
     "text": [
      "WARNING: You are using pip version 19.2.3, however version 24.0 is available.\n",
      "You should consider upgrading via the 'python -m pip install --upgrade pip' command.\n"
     ]
    }
   ],
   "source": [
    "pip install biopython"
   ]
  },
  {
   "cell_type": "code",
   "execution_count": 2,
   "metadata": {},
   "outputs": [],
   "source": [
    "from Bio.Seq import Seq"
   ]
  },
  {
   "cell_type": "code",
   "execution_count": 10,
   "metadata": {},
   "outputs": [
    {
     "name": "stdout",
     "output_type": "stream",
     "text": [
      "ATGATCTCGTAA\n"
     ]
    }
   ],
   "source": [
    "dna_seq = Seq(\"ATGATCTCGTAA\")\n",
    "print(dna_seq)"
   ]
  },
  {
   "cell_type": "code",
   "execution_count": 11,
   "metadata": {},
   "outputs": [
    {
     "name": "stdout",
     "output_type": "stream",
     "text": [
      "TACTAGAGCATT\n"
     ]
    }
   ],
   "source": [
    "# cDNA = merubah A menjadi T, T menjadi A, C menjadi G, G menjadi C\n",
    "\n",
    "cdna_seq = dna_seq.complement()\n",
    "print(cdna_seq)\n",
    "\n",
    "# DNA : ATGATCTCGTAA\n",
    "# HASIL cDNA : TACTAGAGCATT"
   ]
  },
  {
   "cell_type": "code",
   "execution_count": 15,
   "metadata": {},
   "outputs": [
    {
     "name": "stdout",
     "output_type": "stream",
     "text": [
      "AUGAUCUCGUAA\n"
     ]
    }
   ],
   "source": [
    "# Transkripsi = T berubah menjadi U\n",
    "\n",
    "mrna_seq = dna_seq.transcribe()\n",
    "print(mrna_seq)\n",
    "\n",
    "# DNA : ATGATCTCGTAA\n",
    "# HASIL Transkripsi : AUGAUCUCGUAA"
   ]
  },
  {
   "cell_type": "code",
   "execution_count": 15,
   "metadata": {},
   "outputs": [
    {
     "name": "stdout",
     "output_type": "stream",
     "text": [
      "MIS*\n"
     ]
    }
   ],
   "source": [
    "# Translasi \n",
    "\n",
    "amino_acid = mrna_seq.translate()\n",
    "print(amino_acid)\n",
    "\n",
    "# Amino acid terdiri dari tiga nukleotida, lalu dilanjutkan dengan stop\n",
    "# M = Metionin\n",
    "# I = Isoleusin\n",
    "# S = Serin\n",
    "# * = menandakan codon stop (tanda berhenti dalam proses translasi)"
   ]
  },
  {
   "cell_type": "code",
   "execution_count": 9,
   "metadata": {},
   "outputs": [],
   "source": [
    "# seq 1 = mengubah polypeptide menjadi asam amino\n",
    "# seq 3 = mengubah asam amino menjadi polypeptide\n",
    "\n",
    "from Bio.SeqUtils import seq1, seq3"
   ]
  },
  {
   "cell_type": "code",
   "execution_count": 10,
   "metadata": {},
   "outputs": [
    {
     "name": "stdout",
     "output_type": "stream",
     "text": [
      "MetIleSerTer\n",
      "MIS*\n"
     ]
    }
   ],
   "source": [
    "polypeptide = seq3(amino_acid)\n",
    "print(polypeptide)\n",
    "\n",
    "# Amino acid : MIS*\n",
    "# Hasil seq3 : MetIleSerTer\n",
    "\n",
    "print(seq1(polypeptide))\n",
    "\n",
    "# Polypeptide : MetIleSerTer\n",
    "# Hasil seq1 : MIS*"
   ]
  },
  {
   "cell_type": "code",
   "execution_count": 11,
   "metadata": {},
   "outputs": [],
   "source": [
    "from Bio.Data import CodonTable"
   ]
  },
  {
   "cell_type": "code",
   "execution_count": 12,
   "metadata": {},
   "outputs": [
    {
     "name": "stdout",
     "output_type": "stream",
     "text": [
      "Table 1 Standard, SGC0\n",
      "\n",
      "  |  T      |  C      |  A      |  G      |\n",
      "--+---------+---------+---------+---------+--\n",
      "T | TTT F   | TCT S   | TAT Y   | TGT C   | T\n",
      "T | TTC F   | TCC S   | TAC Y   | TGC C   | C\n",
      "T | TTA L   | TCA S   | TAA Stop| TGA Stop| A\n",
      "T | TTG L(s)| TCG S   | TAG Stop| TGG W   | G\n",
      "--+---------+---------+---------+---------+--\n",
      "C | CTT L   | CCT P   | CAT H   | CGT R   | T\n",
      "C | CTC L   | CCC P   | CAC H   | CGC R   | C\n",
      "C | CTA L   | CCA P   | CAA Q   | CGA R   | A\n",
      "C | CTG L(s)| CCG P   | CAG Q   | CGG R   | G\n",
      "--+---------+---------+---------+---------+--\n",
      "A | ATT I   | ACT T   | AAT N   | AGT S   | T\n",
      "A | ATC I   | ACC T   | AAC N   | AGC S   | C\n",
      "A | ATA I   | ACA T   | AAA K   | AGA R   | A\n",
      "A | ATG M(s)| ACG T   | AAG K   | AGG R   | G\n",
      "--+---------+---------+---------+---------+--\n",
      "G | GTT V   | GCT A   | GAT D   | GGT G   | T\n",
      "G | GTC V   | GCC A   | GAC D   | GGC G   | C\n",
      "G | GTA V   | GCA A   | GAA E   | GGA G   | A\n",
      "G | GTG V   | GCG A   | GAG E   | GGG G   | G\n",
      "--+---------+---------+---------+---------+--\n",
      "ATGATCTCGTAA\n"
     ]
    }
   ],
   "source": [
    "print(CodonTable.unambiguous_dna_by_name[\"Standard\"])\n",
    "print(dna_seq)\n",
    "\n",
    "# dna_seq = ATGATCTCGTAA\n",
    "\n",
    "# ATG = M, ATC = I, TCG = S, TAA = Stop [a.k.a * codonstop]\n",
    "# Hasil menggabung gy diatas : MIS*"
   ]
  },
  {
   "cell_type": "code",
   "execution_count": 13,
   "metadata": {},
   "outputs": [
    {
     "name": "stdout",
     "output_type": "stream",
     "text": [
      "Requirement already satisfied: py3Dmol in d:\\software\\environments\\computational_biology\\lib\\site-packages (2.0.1.post1)\n",
      "Note: you may need to restart the kernel to use updated packages.\n"
     ]
    },
    {
     "name": "stderr",
     "output_type": "stream",
     "text": [
      "WARNING: You are using pip version 19.2.3, however version 24.0 is available.\n",
      "You should consider upgrading via the 'python -m pip install --upgrade pip' command.\n"
     ]
    }
   ],
   "source": [
    "%pip install py3Dmol"
   ]
  },
  {
   "cell_type": "code",
   "execution_count": 14,
   "metadata": {},
   "outputs": [
    {
     "name": "stdout",
     "output_type": "stream",
     "text": [
      "Collecting importlib-metadataNote: you may need to restart the kernel to use updated packages.\n",
      "\n",
      "  Downloading https://files.pythonhosted.org/packages/ff/94/64287b38c7de4c90683630338cf28f129decbba0a44f0c6db35a873c73c4/importlib_metadata-6.7.0-py3-none-any.whl\n",
      "Requirement already satisfied: typing-extensions>=3.6.4; python_version < \"3.8\" in d:\\software\\environments\\computational_biology\\lib\\site-packages (from importlib-metadata) (4.7.1)\n",
      "Collecting zipp>=0.5 (from importlib-metadata)\n",
      "  Downloading https://files.pythonhosted.org/packages/5b/fa/c9e82bbe1af6266adf08afb563905eb87cab83fde00a0a08963510621047/zipp-3.15.0-py3-none-any.whl\n",
      "Installing collected packages: zipp, importlib-metadata\n",
      "Successfully installed importlib-metadata-6.7.0 zipp-3.15.0\n"
     ]
    },
    {
     "name": "stderr",
     "output_type": "stream",
     "text": [
      "WARNING: You are using pip version 19.2.3, however version 24.0 is available.\n",
      "You should consider upgrading via the 'python -m pip install --upgrade pip' command.\n"
     ]
    }
   ],
   "source": [
    "%pip install importlib-metadata"
   ]
  },
  {
   "cell_type": "code",
   "execution_count": 15,
   "metadata": {},
   "outputs": [
    {
     "data": {
      "application/3dmoljs_load.v0": "<div id=\"3dmolviewer_1741708634218258\"  style=\"position: relative; width: 640px; height: 480px\">\n        <p id=\"3dmolwarning_1741708634218258\" style=\"background-color:#ffcccc;color:black\">You appear to be running in JupyterLab (or JavaScript failed to load for some other reason).  You need to install the 3dmol extension: <br>\n        <tt>jupyter labextension install jupyterlab_3dmol</tt></p>\n        </div>\n<script>\n\nvar loadScriptAsync = function(uri){\n  return new Promise((resolve, reject) => {\n    //this is to ignore the existence of requirejs amd\n    var savedexports, savedmodule;\n    if (typeof exports !== 'undefined') savedexports = exports;\n    else exports = {}\n    if (typeof module !== 'undefined') savedmodule = module;\n    else module = {}\n\n    var tag = document.createElement('script');\n    tag.src = uri;\n    tag.async = true;\n    tag.onload = () => {\n        exports = savedexports;\n        module = savedmodule;\n        resolve();\n    };\n  var firstScriptTag = document.getElementsByTagName('script')[0];\n  firstScriptTag.parentNode.insertBefore(tag, firstScriptTag);\n});\n};\n\nif(typeof $3Dmolpromise === 'undefined') {\n$3Dmolpromise = null;\n  $3Dmolpromise = loadScriptAsync('https://cdnjs.cloudflare.com/ajax/libs/3Dmol/2.0.1/3Dmol-min.js');\n}\n\nvar viewer_1741708634218258 = null;\nvar warn = document.getElementById(\"3dmolwarning_1741708634218258\");\nif(warn) {\n    warn.parentNode.removeChild(warn);\n}\n$3Dmolpromise.then(function() {\nviewer_1741708634218258 = $3Dmol.createViewer(document.getElementById(\"3dmolviewer_1741708634218258\"),{backgroundColor:\"white\"});\n$3Dmol.download(\"pdb:9EH8\", viewer_1741708634218258, {}, function() {\nviewer_1741708634218258.zoomTo();\n\tviewer_1741708634218258.setStyle({\"cartoon\": {\"color\": \"spectrum\"}});\nviewer_1741708634218258.render();\n})\n});\n</script>",
      "text/html": [
       "<div id=\"3dmolviewer_1741708634218258\"  style=\"position: relative; width: 640px; height: 480px\">\n",
       "        <p id=\"3dmolwarning_1741708634218258\" style=\"background-color:#ffcccc;color:black\">You appear to be running in JupyterLab (or JavaScript failed to load for some other reason).  You need to install the 3dmol extension: <br>\n",
       "        <tt>jupyter labextension install jupyterlab_3dmol</tt></p>\n",
       "        </div>\n",
       "<script>\n",
       "\n",
       "var loadScriptAsync = function(uri){\n",
       "  return new Promise((resolve, reject) => {\n",
       "    //this is to ignore the existence of requirejs amd\n",
       "    var savedexports, savedmodule;\n",
       "    if (typeof exports !== 'undefined') savedexports = exports;\n",
       "    else exports = {}\n",
       "    if (typeof module !== 'undefined') savedmodule = module;\n",
       "    else module = {}\n",
       "\n",
       "    var tag = document.createElement('script');\n",
       "    tag.src = uri;\n",
       "    tag.async = true;\n",
       "    tag.onload = () => {\n",
       "        exports = savedexports;\n",
       "        module = savedmodule;\n",
       "        resolve();\n",
       "    };\n",
       "  var firstScriptTag = document.getElementsByTagName('script')[0];\n",
       "  firstScriptTag.parentNode.insertBefore(tag, firstScriptTag);\n",
       "});\n",
       "};\n",
       "\n",
       "if(typeof $3Dmolpromise === 'undefined') {\n",
       "$3Dmolpromise = null;\n",
       "  $3Dmolpromise = loadScriptAsync('https://cdnjs.cloudflare.com/ajax/libs/3Dmol/2.0.1/3Dmol-min.js');\n",
       "}\n",
       "\n",
       "var viewer_1741708634218258 = null;\n",
       "var warn = document.getElementById(\"3dmolwarning_1741708634218258\");\n",
       "if(warn) {\n",
       "    warn.parentNode.removeChild(warn);\n",
       "}\n",
       "$3Dmolpromise.then(function() {\n",
       "viewer_1741708634218258 = $3Dmol.createViewer(document.getElementById(\"3dmolviewer_1741708634218258\"),{backgroundColor:\"white\"});\n",
       "$3Dmol.download(\"pdb:9EH8\", viewer_1741708634218258, {}, function() {\n",
       "viewer_1741708634218258.zoomTo();\n",
       "\tviewer_1741708634218258.setStyle({\"cartoon\": {\"color\": \"spectrum\"}});\n",
       "viewer_1741708634218258.render();\n",
       "})\n",
       "});\n",
       "</script>"
      ]
     },
     "metadata": {},
     "output_type": "display_data"
    }
   ],
   "source": [
    "import py3Dmol\n",
    "\n",
    "view_mol = py3Dmol.view(query = \"pdb:9EH8\")\n",
    "view_mol.setStyle({\"cartoon\" : {\"color\" : \"spectrum\"}})\n",
    "\n",
    "view_mol.show()"
   ]
  }
 ],
 "metadata": {
  "kernelspec": {
   "display_name": "computational_biology",
   "language": "python",
   "name": "python3"
  },
  "language_info": {
   "codemirror_mode": {
    "name": "ipython",
    "version": 3
   },
   "file_extension": ".py",
   "mimetype": "text/x-python",
   "name": "python",
   "nbconvert_exporter": "python",
   "pygments_lexer": "ipython3",
   "version": "3.7.6"
  }
 },
 "nbformat": 4,
 "nbformat_minor": 2
}
