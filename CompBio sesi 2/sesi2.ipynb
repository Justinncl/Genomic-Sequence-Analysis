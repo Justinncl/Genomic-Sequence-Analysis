{
 "cells": [
  {
   "cell_type": "code",
   "execution_count": 3,
   "metadata": {},
   "outputs": [],
   "source": [
    "import Bio \n",
    "from Bio.Seq import Seq\n",
    "\n",
    "DNA = Seq(\"ATGGACGCGTGCGAT\")"
   ]
  },
  {
   "cell_type": "code",
   "execution_count": 11,
   "metadata": {},
   "outputs": [
    {
     "name": "stdout",
     "output_type": "stream",
     "text": [
      "Persentase GC: 60.0\n",
      "Persentase AT: 40.0\n"
     ]
    }
   ],
   "source": [
    "# Hitung GC dan AT\n",
    "# Version biopython kita outdated/tua, jadi kita pakai GC\n",
    "# Kalau versi yang lebih baru, pakai gc_fraction\n",
    "\n",
    "from Bio.SeqUtils import GC\n",
    "\n",
    "# kalau GC -> hasilnya dalam persentase -> 60\n",
    "# kalau gc_fraction -> hasilnya dalam koma -> 0.6\n",
    "\n",
    "gc_percentage = GC(DNA)\n",
    "at_percentage = 100 - gc_percentage\n",
    "\n",
    "print(f\"Persentase GC: {gc_percentage}\")\n",
    "print(f\"Persentase AT: {at_percentage}\")"
   ]
  },
  {
   "cell_type": "code",
   "execution_count": 5,
   "metadata": {},
   "outputs": [
    {
     "name": "stdout",
     "output_type": "stream",
     "text": [
      "Manual: 60.0, LC: 60.0, library: 60.0\n"
     ]
    }
   ],
   "source": [
    "# Hitung komposisi GC dan AT sendiri\n",
    "\n",
    "def calculate_gc(sequence):\n",
    "    countG = sequence.count(\"G\")\n",
    "    countC = sequence.count(\"C\")\n",
    "    \n",
    "    return (countC + countG) / len(sequence) * 100\n",
    "\n",
    "# Hitung GC dan AT pake list comprehension\n",
    "def calculate_gc_with_lc(sequence):\n",
    "    gc = [x for x in sequence if x in \"GC\"]\n",
    "    return len(gc)/len(sequence) * 100\n",
    "\n",
    "gc_manual = calculate_gc(DNA)\n",
    "gc_lc = calculate_gc_with_lc(DNA)\n",
    "\n",
    "print(f\"Manual: {gc_manual}, LC: {gc_lc}, library: {gc_percentage}\")"
   ]
  },
  {
   "cell_type": "code",
   "execution_count": 6,
   "metadata": {},
   "outputs": [
    {
     "name": "stdout",
     "output_type": "stream",
     "text": [
      "GC: 44.254892265415165, NN: 50.346125847238625, WC: 48.0\n"
     ]
    }
   ],
   "source": [
    "# Ada 3 fungsi aproksimasi/perkiraan dari library biopython\n",
    "\n",
    "from Bio.SeqUtils import MeltingTemp as MT \n",
    "\n",
    "# Aproksimasi berdasarkan komposisi GC dan Atnya\n",
    "melting_gc = MT.Tm_GC(DNA)\n",
    "\n",
    "# Aproksimasi berdasarkan nearest neighbours\n",
    "melting_nn = MT.Tm_NN(DNA)\n",
    "\n",
    "# Aproksimasi berdasarkan rumusnya Wallace\n",
    "melting_wc = MT.Tm_Wallace(DNA)\n",
    "\n",
    "print(f\"GC: {melting_gc}, NN: {melting_nn}, WC: {melting_wc}\")"
   ]
  },
  {
   "cell_type": "code",
   "execution_count": null,
   "metadata": {},
   "outputs": [],
   "source": [
    "# BerdGsarkan standard formula \n",
    "def standard_melt(sequence):\n",
    "    # c -> count\n",
    "    cA = sequence.count(\"A\")\n",
    "    cT = sequence.count(\"T\")\n",
    "    cG = sequence.count(\"G\")\n",
    "    cC = sequence.count(\"C\")"
   ]
  }
 ],
 "metadata": {
  "kernelspec": {
   "display_name": "computational_biology",
   "language": "python",
   "name": "python3"
  },
  "language_info": {
   "codemirror_mode": {
    "name": "ipython",
    "version": 3
   },
   "file_extension": ".py",
   "mimetype": "text/x-python",
   "name": "python",
   "nbconvert_exporter": "python",
   "pygments_lexer": "ipython3",
   "version": "3.7.6"
  }
 },
 "nbformat": 4,
 "nbformat_minor": 2
}
